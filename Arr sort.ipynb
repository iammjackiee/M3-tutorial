{
 "cells": [
  {
   "cell_type": "code",
   "execution_count": null,
   "id": "bf8f1640-c271-4d3f-af1d-6df8e01f068a",
   "metadata": {},
   "outputs": [],
   "source": []
  }
 ],
 "metadata": {
  "kernelspec": {
   "display_name": "",
   "name": ""
  },
  "language_info": {
   "name": ""
  }
 },
 "nbformat": 4,
 "nbformat_minor": 5
}
